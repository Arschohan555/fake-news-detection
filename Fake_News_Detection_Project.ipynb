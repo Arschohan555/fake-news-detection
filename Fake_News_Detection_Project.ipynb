{
  "cells": [
    {
      "cell_type": "markdown",
      "id": "f1e7aa10",
      "metadata": {
        "id": "f1e7aa10"
      },
      "source": [
        "# Fake News Detection using Machine Learning, LSTM (TensorFlow) and BERT (Optional)\n",
        "\n",
        "**Author:** Abdul Rehman\n",
        "\n",
        "**Institution:** Abdul Rehman Institute for Professional Excellence and Innovation\n",
        "\n",
        "**Date:** October 24, 2025\n",
        "\n",
        "---\n",
        "\n",
        "**Objective:** Build a reproducible fake news detection pipeline using TF‑IDF + Logistic Regression and a TensorFlow LSTM trained on the full dataset. Optional BERT section included but commented. This Colab notebook is submission-ready."
      ]
    },
    {
      "cell_type": "markdown",
      "id": "9eacd549",
      "metadata": {
        "id": "9eacd549"
      },
      "source": [
        "## 1) Install required libraries\n",
        "Run this cell to install dependencies. (TensorFlow may already be available in Colab.)"
      ]
    },
    {
      "cell_type": "code",
      "execution_count": 1,
      "id": "bbac6c7e",
      "metadata": {
        "id": "bbac6c7e"
      },
      "outputs": [],
      "source": [
        "\n",
        "# Basic libraries for ML + NLP\n",
        "!pip install --quiet pandas numpy scikit-learn nltk matplotlib seaborn joblib\n",
        "\n",
        "# TensorFlow (Colab usually has it preinstalled; this ensures compatibility)\n",
        "!pip install --quiet tensorflow\n",
        "\n",
        "# Optional (uncomment if you plan to run BERT section)\n",
        "# !pip install --quiet transformers datasets accelerate\n"
      ]
    },
    {
      "cell_type": "markdown",
      "id": "22b2a993",
      "metadata": {
        "id": "22b2a993"
      },
      "source": [
        "## 2) Upload dataset files\n",
        "Upload `Fake.csv` and `True.csv` (you can select both). The cell will detect and load them."
      ]
    },
    {
      "cell_type": "code",
      "execution_count": 4,
      "id": "8a774f9f",
      "metadata": {
        "colab": {
          "base_uri": "https://localhost:8080/",
          "height": 160
        },
        "id": "8a774f9f",
        "outputId": "ae959372-ea0e-44c2-c320-aea30bbf043a"
      },
      "outputs": [
        {
          "output_type": "stream",
          "name": "stdout",
          "text": [
            "📂 Please upload your dataset files (Fake.csv and True.csv). You can select both at once.\n"
          ]
        },
        {
          "output_type": "display_data",
          "data": {
            "text/plain": [
              "<IPython.core.display.HTML object>"
            ],
            "text/html": [
              "\n",
              "     <input type=\"file\" id=\"files-ed9cb32e-2334-4856-9229-1fdf6935e5fc\" name=\"files[]\" multiple disabled\n",
              "        style=\"border:none\" />\n",
              "     <output id=\"result-ed9cb32e-2334-4856-9229-1fdf6935e5fc\">\n",
              "      Upload widget is only available when the cell has been executed in the\n",
              "      current browser session. Please rerun this cell to enable.\n",
              "      </output>\n",
              "      <script>// Copyright 2017 Google LLC\n",
              "//\n",
              "// Licensed under the Apache License, Version 2.0 (the \"License\");\n",
              "// you may not use this file except in compliance with the License.\n",
              "// You may obtain a copy of the License at\n",
              "//\n",
              "//      http://www.apache.org/licenses/LICENSE-2.0\n",
              "//\n",
              "// Unless required by applicable law or agreed to in writing, software\n",
              "// distributed under the License is distributed on an \"AS IS\" BASIS,\n",
              "// WITHOUT WARRANTIES OR CONDITIONS OF ANY KIND, either express or implied.\n",
              "// See the License for the specific language governing permissions and\n",
              "// limitations under the License.\n",
              "\n",
              "/**\n",
              " * @fileoverview Helpers for google.colab Python module.\n",
              " */\n",
              "(function(scope) {\n",
              "function span(text, styleAttributes = {}) {\n",
              "  const element = document.createElement('span');\n",
              "  element.textContent = text;\n",
              "  for (const key of Object.keys(styleAttributes)) {\n",
              "    element.style[key] = styleAttributes[key];\n",
              "  }\n",
              "  return element;\n",
              "}\n",
              "\n",
              "// Max number of bytes which will be uploaded at a time.\n",
              "const MAX_PAYLOAD_SIZE = 100 * 1024;\n",
              "\n",
              "function _uploadFiles(inputId, outputId) {\n",
              "  const steps = uploadFilesStep(inputId, outputId);\n",
              "  const outputElement = document.getElementById(outputId);\n",
              "  // Cache steps on the outputElement to make it available for the next call\n",
              "  // to uploadFilesContinue from Python.\n",
              "  outputElement.steps = steps;\n",
              "\n",
              "  return _uploadFilesContinue(outputId);\n",
              "}\n",
              "\n",
              "// This is roughly an async generator (not supported in the browser yet),\n",
              "// where there are multiple asynchronous steps and the Python side is going\n",
              "// to poll for completion of each step.\n",
              "// This uses a Promise to block the python side on completion of each step,\n",
              "// then passes the result of the previous step as the input to the next step.\n",
              "function _uploadFilesContinue(outputId) {\n",
              "  const outputElement = document.getElementById(outputId);\n",
              "  const steps = outputElement.steps;\n",
              "\n",
              "  const next = steps.next(outputElement.lastPromiseValue);\n",
              "  return Promise.resolve(next.value.promise).then((value) => {\n",
              "    // Cache the last promise value to make it available to the next\n",
              "    // step of the generator.\n",
              "    outputElement.lastPromiseValue = value;\n",
              "    return next.value.response;\n",
              "  });\n",
              "}\n",
              "\n",
              "/**\n",
              " * Generator function which is called between each async step of the upload\n",
              " * process.\n",
              " * @param {string} inputId Element ID of the input file picker element.\n",
              " * @param {string} outputId Element ID of the output display.\n",
              " * @return {!Iterable<!Object>} Iterable of next steps.\n",
              " */\n",
              "function* uploadFilesStep(inputId, outputId) {\n",
              "  const inputElement = document.getElementById(inputId);\n",
              "  inputElement.disabled = false;\n",
              "\n",
              "  const outputElement = document.getElementById(outputId);\n",
              "  outputElement.innerHTML = '';\n",
              "\n",
              "  const pickedPromise = new Promise((resolve) => {\n",
              "    inputElement.addEventListener('change', (e) => {\n",
              "      resolve(e.target.files);\n",
              "    });\n",
              "  });\n",
              "\n",
              "  const cancel = document.createElement('button');\n",
              "  inputElement.parentElement.appendChild(cancel);\n",
              "  cancel.textContent = 'Cancel upload';\n",
              "  const cancelPromise = new Promise((resolve) => {\n",
              "    cancel.onclick = () => {\n",
              "      resolve(null);\n",
              "    };\n",
              "  });\n",
              "\n",
              "  // Wait for the user to pick the files.\n",
              "  const files = yield {\n",
              "    promise: Promise.race([pickedPromise, cancelPromise]),\n",
              "    response: {\n",
              "      action: 'starting',\n",
              "    }\n",
              "  };\n",
              "\n",
              "  cancel.remove();\n",
              "\n",
              "  // Disable the input element since further picks are not allowed.\n",
              "  inputElement.disabled = true;\n",
              "\n",
              "  if (!files) {\n",
              "    return {\n",
              "      response: {\n",
              "        action: 'complete',\n",
              "      }\n",
              "    };\n",
              "  }\n",
              "\n",
              "  for (const file of files) {\n",
              "    const li = document.createElement('li');\n",
              "    li.append(span(file.name, {fontWeight: 'bold'}));\n",
              "    li.append(span(\n",
              "        `(${file.type || 'n/a'}) - ${file.size} bytes, ` +\n",
              "        `last modified: ${\n",
              "            file.lastModifiedDate ? file.lastModifiedDate.toLocaleDateString() :\n",
              "                                    'n/a'} - `));\n",
              "    const percent = span('0% done');\n",
              "    li.appendChild(percent);\n",
              "\n",
              "    outputElement.appendChild(li);\n",
              "\n",
              "    const fileDataPromise = new Promise((resolve) => {\n",
              "      const reader = new FileReader();\n",
              "      reader.onload = (e) => {\n",
              "        resolve(e.target.result);\n",
              "      };\n",
              "      reader.readAsArrayBuffer(file);\n",
              "    });\n",
              "    // Wait for the data to be ready.\n",
              "    let fileData = yield {\n",
              "      promise: fileDataPromise,\n",
              "      response: {\n",
              "        action: 'continue',\n",
              "      }\n",
              "    };\n",
              "\n",
              "    // Use a chunked sending to avoid message size limits. See b/62115660.\n",
              "    let position = 0;\n",
              "    do {\n",
              "      const length = Math.min(fileData.byteLength - position, MAX_PAYLOAD_SIZE);\n",
              "      const chunk = new Uint8Array(fileData, position, length);\n",
              "      position += length;\n",
              "\n",
              "      const base64 = btoa(String.fromCharCode.apply(null, chunk));\n",
              "      yield {\n",
              "        response: {\n",
              "          action: 'append',\n",
              "          file: file.name,\n",
              "          data: base64,\n",
              "        },\n",
              "      };\n",
              "\n",
              "      let percentDone = fileData.byteLength === 0 ?\n",
              "          100 :\n",
              "          Math.round((position / fileData.byteLength) * 100);\n",
              "      percent.textContent = `${percentDone}% done`;\n",
              "\n",
              "    } while (position < fileData.byteLength);\n",
              "  }\n",
              "\n",
              "  // All done.\n",
              "  yield {\n",
              "    response: {\n",
              "      action: 'complete',\n",
              "    }\n",
              "  };\n",
              "}\n",
              "\n",
              "scope.google = scope.google || {};\n",
              "scope.google.colab = scope.google.colab || {};\n",
              "scope.google.colab._files = {\n",
              "  _uploadFiles,\n",
              "  _uploadFilesContinue,\n",
              "};\n",
              "})(self);\n",
              "</script> "
            ]
          },
          "metadata": {}
        },
        {
          "output_type": "stream",
          "name": "stdout",
          "text": [
            "Saving Fake.csv to Fake.csv\n",
            "Saving True.csv to True.csv\n",
            "✅ Uploaded files: ['Fake.csv', 'True.csv']\n",
            "✅ Dataset loaded successfully! Shape: (44898, 5)\n"
          ]
        }
      ],
      "source": [
        "\n",
        "# Auto file upload for Colab\n",
        "import pandas as pd\n",
        "import os\n",
        "from google.colab import files\n",
        "\n",
        "print(\"📂 Please upload your dataset files (Fake.csv and True.csv). You can select both at once.\")\n",
        "uploaded = files.upload()  # Opens file picker dialog\n",
        "\n",
        "uploaded_files = list(uploaded.keys())\n",
        "print(\"✅ Uploaded files:\", uploaded_files)\n",
        "\n",
        "fake_path = None\n",
        "true_path = None\n",
        "for f in uploaded_files:\n",
        "    if \"fake\" in f.lower():\n",
        "        fake_path = f\"/content/{f}\"\n",
        "    elif \"true\" in f.lower():\n",
        "        true_path = f\"/content/{f}\"\n",
        "\n",
        "if fake_path and true_path:\n",
        "    fake = pd.read_csv(fake_path)\n",
        "    true = pd.read_csv(true_path)\n",
        "    fake[\"label\"] = 1\n",
        "    true[\"label\"] = 0\n",
        "    df = pd.concat([fake, true], ignore_index=True).sample(frac=1, random_state=42).reset_index(drop=True)\n",
        "    print(f\"✅ Dataset loaded successfully! Shape: {df.shape}\")\n",
        "else:\n",
        "    print(\"⚠️ Both Fake.csv and True.csv files are required. If your files have different names, re-upload them with 'fake' and 'true' in filenames.\")\n"
      ]
    },
    {
      "cell_type": "markdown",
      "id": "dcd36936",
      "metadata": {
        "id": "dcd36936"
      },
      "source": [
        "## 3) Imports and preprocessing (same cleaning for both models)"
      ]
    },
    {
      "cell_type": "code",
      "execution_count": 5,
      "id": "952a1fa5",
      "metadata": {
        "colab": {
          "base_uri": "https://localhost:8080/",
          "height": 213
        },
        "id": "952a1fa5",
        "outputId": "0ac7b35c-c343-45c7-b1da-756c7515458f"
      },
      "outputs": [
        {
          "output_type": "stream",
          "name": "stderr",
          "text": [
            "[nltk_data] Downloading package stopwords to /root/nltk_data...\n",
            "[nltk_data]   Package stopwords is already up-to-date!\n"
          ]
        },
        {
          "output_type": "stream",
          "name": "stdout",
          "text": [
            "Starting text cleaning (this may take a while for full dataset)...\n",
            "✅ Preprocessing complete. Sample:\n"
          ]
        },
        {
          "output_type": "display_data",
          "data": {
            "text/plain": [
              "                                             content  \\\n",
              "0  Ben Stein Calls Out 9th Circuit Court: Committ...   \n",
              "1  Trump drops Steve Bannon from National Securit...   \n",
              "2  Puerto Rico expects U.S. to lift Jones Act shi...   \n",
              "\n",
              "                                          clean_text  \n",
              "0  ben stein call 9th circuit court commit coup t...  \n",
              "1  trump drop steve bannon nation secur council w...  \n",
              "2  puerto rico expect u lift jone act ship restri...  "
            ],
            "text/html": [
              "\n",
              "  <div id=\"df-99215fde-d3b6-4938-88b6-5cfc5fd65f2b\" class=\"colab-df-container\">\n",
              "    <div>\n",
              "<style scoped>\n",
              "    .dataframe tbody tr th:only-of-type {\n",
              "        vertical-align: middle;\n",
              "    }\n",
              "\n",
              "    .dataframe tbody tr th {\n",
              "        vertical-align: top;\n",
              "    }\n",
              "\n",
              "    .dataframe thead th {\n",
              "        text-align: right;\n",
              "    }\n",
              "</style>\n",
              "<table border=\"1\" class=\"dataframe\">\n",
              "  <thead>\n",
              "    <tr style=\"text-align: right;\">\n",
              "      <th></th>\n",
              "      <th>content</th>\n",
              "      <th>clean_text</th>\n",
              "    </tr>\n",
              "  </thead>\n",
              "  <tbody>\n",
              "    <tr>\n",
              "      <th>0</th>\n",
              "      <td>Ben Stein Calls Out 9th Circuit Court: Committ...</td>\n",
              "      <td>ben stein call 9th circuit court commit coup t...</td>\n",
              "    </tr>\n",
              "    <tr>\n",
              "      <th>1</th>\n",
              "      <td>Trump drops Steve Bannon from National Securit...</td>\n",
              "      <td>trump drop steve bannon nation secur council w...</td>\n",
              "    </tr>\n",
              "    <tr>\n",
              "      <th>2</th>\n",
              "      <td>Puerto Rico expects U.S. to lift Jones Act shi...</td>\n",
              "      <td>puerto rico expect u lift jone act ship restri...</td>\n",
              "    </tr>\n",
              "  </tbody>\n",
              "</table>\n",
              "</div>\n",
              "    <div class=\"colab-df-buttons\">\n",
              "\n",
              "  <div class=\"colab-df-container\">\n",
              "    <button class=\"colab-df-convert\" onclick=\"convertToInteractive('df-99215fde-d3b6-4938-88b6-5cfc5fd65f2b')\"\n",
              "            title=\"Convert this dataframe to an interactive table.\"\n",
              "            style=\"display:none;\">\n",
              "\n",
              "  <svg xmlns=\"http://www.w3.org/2000/svg\" height=\"24px\" viewBox=\"0 -960 960 960\">\n",
              "    <path d=\"M120-120v-720h720v720H120Zm60-500h600v-160H180v160Zm220 220h160v-160H400v160Zm0 220h160v-160H400v160ZM180-400h160v-160H180v160Zm440 0h160v-160H620v160ZM180-180h160v-160H180v160Zm440 0h160v-160H620v160Z\"/>\n",
              "  </svg>\n",
              "    </button>\n",
              "\n",
              "  <style>\n",
              "    .colab-df-container {\n",
              "      display:flex;\n",
              "      gap: 12px;\n",
              "    }\n",
              "\n",
              "    .colab-df-convert {\n",
              "      background-color: #E8F0FE;\n",
              "      border: none;\n",
              "      border-radius: 50%;\n",
              "      cursor: pointer;\n",
              "      display: none;\n",
              "      fill: #1967D2;\n",
              "      height: 32px;\n",
              "      padding: 0 0 0 0;\n",
              "      width: 32px;\n",
              "    }\n",
              "\n",
              "    .colab-df-convert:hover {\n",
              "      background-color: #E2EBFA;\n",
              "      box-shadow: 0px 1px 2px rgba(60, 64, 67, 0.3), 0px 1px 3px 1px rgba(60, 64, 67, 0.15);\n",
              "      fill: #174EA6;\n",
              "    }\n",
              "\n",
              "    .colab-df-buttons div {\n",
              "      margin-bottom: 4px;\n",
              "    }\n",
              "\n",
              "    [theme=dark] .colab-df-convert {\n",
              "      background-color: #3B4455;\n",
              "      fill: #D2E3FC;\n",
              "    }\n",
              "\n",
              "    [theme=dark] .colab-df-convert:hover {\n",
              "      background-color: #434B5C;\n",
              "      box-shadow: 0px 1px 3px 1px rgba(0, 0, 0, 0.15);\n",
              "      filter: drop-shadow(0px 1px 2px rgba(0, 0, 0, 0.3));\n",
              "      fill: #FFFFFF;\n",
              "    }\n",
              "  </style>\n",
              "\n",
              "    <script>\n",
              "      const buttonEl =\n",
              "        document.querySelector('#df-99215fde-d3b6-4938-88b6-5cfc5fd65f2b button.colab-df-convert');\n",
              "      buttonEl.style.display =\n",
              "        google.colab.kernel.accessAllowed ? 'block' : 'none';\n",
              "\n",
              "      async function convertToInteractive(key) {\n",
              "        const element = document.querySelector('#df-99215fde-d3b6-4938-88b6-5cfc5fd65f2b');\n",
              "        const dataTable =\n",
              "          await google.colab.kernel.invokeFunction('convertToInteractive',\n",
              "                                                    [key], {});\n",
              "        if (!dataTable) return;\n",
              "\n",
              "        const docLinkHtml = 'Like what you see? Visit the ' +\n",
              "          '<a target=\"_blank\" href=https://colab.research.google.com/notebooks/data_table.ipynb>data table notebook</a>'\n",
              "          + ' to learn more about interactive tables.';\n",
              "        element.innerHTML = '';\n",
              "        dataTable['output_type'] = 'display_data';\n",
              "        await google.colab.output.renderOutput(dataTable, element);\n",
              "        const docLink = document.createElement('div');\n",
              "        docLink.innerHTML = docLinkHtml;\n",
              "        element.appendChild(docLink);\n",
              "      }\n",
              "    </script>\n",
              "  </div>\n",
              "\n",
              "\n",
              "    <div id=\"df-b44bc70f-af3c-4e98-9a0a-f7023694ab18\">\n",
              "      <button class=\"colab-df-quickchart\" onclick=\"quickchart('df-b44bc70f-af3c-4e98-9a0a-f7023694ab18')\"\n",
              "                title=\"Suggest charts\"\n",
              "                style=\"display:none;\">\n",
              "\n",
              "<svg xmlns=\"http://www.w3.org/2000/svg\" height=\"24px\"viewBox=\"0 0 24 24\"\n",
              "     width=\"24px\">\n",
              "    <g>\n",
              "        <path d=\"M19 3H5c-1.1 0-2 .9-2 2v14c0 1.1.9 2 2 2h14c1.1 0 2-.9 2-2V5c0-1.1-.9-2-2-2zM9 17H7v-7h2v7zm4 0h-2V7h2v10zm4 0h-2v-4h2v4z\"/>\n",
              "    </g>\n",
              "</svg>\n",
              "      </button>\n",
              "\n",
              "<style>\n",
              "  .colab-df-quickchart {\n",
              "      --bg-color: #E8F0FE;\n",
              "      --fill-color: #1967D2;\n",
              "      --hover-bg-color: #E2EBFA;\n",
              "      --hover-fill-color: #174EA6;\n",
              "      --disabled-fill-color: #AAA;\n",
              "      --disabled-bg-color: #DDD;\n",
              "  }\n",
              "\n",
              "  [theme=dark] .colab-df-quickchart {\n",
              "      --bg-color: #3B4455;\n",
              "      --fill-color: #D2E3FC;\n",
              "      --hover-bg-color: #434B5C;\n",
              "      --hover-fill-color: #FFFFFF;\n",
              "      --disabled-bg-color: #3B4455;\n",
              "      --disabled-fill-color: #666;\n",
              "  }\n",
              "\n",
              "  .colab-df-quickchart {\n",
              "    background-color: var(--bg-color);\n",
              "    border: none;\n",
              "    border-radius: 50%;\n",
              "    cursor: pointer;\n",
              "    display: none;\n",
              "    fill: var(--fill-color);\n",
              "    height: 32px;\n",
              "    padding: 0;\n",
              "    width: 32px;\n",
              "  }\n",
              "\n",
              "  .colab-df-quickchart:hover {\n",
              "    background-color: var(--hover-bg-color);\n",
              "    box-shadow: 0 1px 2px rgba(60, 64, 67, 0.3), 0 1px 3px 1px rgba(60, 64, 67, 0.15);\n",
              "    fill: var(--button-hover-fill-color);\n",
              "  }\n",
              "\n",
              "  .colab-df-quickchart-complete:disabled,\n",
              "  .colab-df-quickchart-complete:disabled:hover {\n",
              "    background-color: var(--disabled-bg-color);\n",
              "    fill: var(--disabled-fill-color);\n",
              "    box-shadow: none;\n",
              "  }\n",
              "\n",
              "  .colab-df-spinner {\n",
              "    border: 2px solid var(--fill-color);\n",
              "    border-color: transparent;\n",
              "    border-bottom-color: var(--fill-color);\n",
              "    animation:\n",
              "      spin 1s steps(1) infinite;\n",
              "  }\n",
              "\n",
              "  @keyframes spin {\n",
              "    0% {\n",
              "      border-color: transparent;\n",
              "      border-bottom-color: var(--fill-color);\n",
              "      border-left-color: var(--fill-color);\n",
              "    }\n",
              "    20% {\n",
              "      border-color: transparent;\n",
              "      border-left-color: var(--fill-color);\n",
              "      border-top-color: var(--fill-color);\n",
              "    }\n",
              "    30% {\n",
              "      border-color: transparent;\n",
              "      border-left-color: var(--fill-color);\n",
              "      border-top-color: var(--fill-color);\n",
              "      border-right-color: var(--fill-color);\n",
              "    }\n",
              "    40% {\n",
              "      border-color: transparent;\n",
              "      border-right-color: var(--fill-color);\n",
              "      border-top-color: var(--fill-color);\n",
              "    }\n",
              "    60% {\n",
              "      border-color: transparent;\n",
              "      border-right-color: var(--fill-color);\n",
              "    }\n",
              "    80% {\n",
              "      border-color: transparent;\n",
              "      border-right-color: var(--fill-color);\n",
              "      border-bottom-color: var(--fill-color);\n",
              "    }\n",
              "    90% {\n",
              "      border-color: transparent;\n",
              "      border-bottom-color: var(--fill-color);\n",
              "    }\n",
              "  }\n",
              "</style>\n",
              "\n",
              "      <script>\n",
              "        async function quickchart(key) {\n",
              "          const quickchartButtonEl =\n",
              "            document.querySelector('#' + key + ' button');\n",
              "          quickchartButtonEl.disabled = true;  // To prevent multiple clicks.\n",
              "          quickchartButtonEl.classList.add('colab-df-spinner');\n",
              "          try {\n",
              "            const charts = await google.colab.kernel.invokeFunction(\n",
              "                'suggestCharts', [key], {});\n",
              "          } catch (error) {\n",
              "            console.error('Error during call to suggestCharts:', error);\n",
              "          }\n",
              "          quickchartButtonEl.classList.remove('colab-df-spinner');\n",
              "          quickchartButtonEl.classList.add('colab-df-quickchart-complete');\n",
              "        }\n",
              "        (() => {\n",
              "          let quickchartButtonEl =\n",
              "            document.querySelector('#df-b44bc70f-af3c-4e98-9a0a-f7023694ab18 button');\n",
              "          quickchartButtonEl.style.display =\n",
              "            google.colab.kernel.accessAllowed ? 'block' : 'none';\n",
              "        })();\n",
              "      </script>\n",
              "    </div>\n",
              "\n",
              "    </div>\n",
              "  </div>\n"
            ],
            "application/vnd.google.colaboratory.intrinsic+json": {
              "type": "dataframe",
              "summary": "{\n  \"name\": \"display(df[['content','clean_text']]\",\n  \"rows\": 3,\n  \"fields\": [\n    {\n      \"column\": \"content\",\n      \"properties\": {\n        \"dtype\": \"string\",\n        \"num_unique_values\": 3,\n        \"samples\": [\n          \"Ben Stein Calls Out 9th Circuit Court: Committed a \\u2018Coup d\\u2019\\u00e9tat\\u2019 Against the Constitution 21st Century Wire says Ben Stein, reputable professor from, Pepperdine University (also of some Hollywood fame appearing in TV shows and films such as Ferris Bueller s Day Off) made some provocative statements on Judge Jeanine Pirro s show recently. While discussing the halt that was imposed on President Trump s Executive Order on travel. Stein referred to the judgement by the 9th Circuit Court in Washington state as a  Coup d tat against the executive branch and against the constitution.  Stein went on to call the Judges in Seattle  political puppets  and the judiciary  political pawns. Watch the interview below for the complete statements and note the stark contrast to the rhetoric of the leftist media and pundits who neglect to note that no court has ever blocked any Presidential orders in immigration in the past or discuss the legal efficacy of the halt or the actual text of the Executive Order.READ MORE TRUMP NEWS AT: 21st Century Wire Trump FilesSUPPORT OUR WORK BY SUBSCRIBING & BECOMING A MEMBER @21WIRE.TV\",\n          \"Trump drops Steve Bannon from National Security Council WASHINGTON (Reuters) - U.S. President Donald Trump removed his chief strategist Steve Bannon from the National Security Council on Wednesday, reversing his controversial decision early this year to give a political adviser an unprecedented role in security discussions. Trump\\u2019s overhaul of the NSC, confirmed by a White House official, also elevated General Joseph Dunford, chairman of the Joint Chiefs of Staff and Dan Coats, the director of National Intelligence who heads all 17 U.S. intelligence agencies. The official said the change moves the NSC \\u201cback to its core function of what it\\u2019s supposed to do.\\u201d It also appears to mark a victory for national security adviser H.R. McMaster, who had told some national security experts he felt he was in a \\u201cbattle to the death\\u201d with Bannon and others on the White House staff. Vice President Mike Pence said Bannon would continue to play an important role in policy and played down the shake-up as routine. \\u201cThis is just a natural evolution to ensure the National Security Council is organized in a way that best serves the president in resolving and making those difficult decisions,\\u201d Pence said on Fox News.  Bannon said in a statement he had succeeded in returning the NSC back to its traditional role of coordinating foreign policy rather than running it. He cited President Barack Obama\\u2019s national security adviser, Susan Rice, for why he advocated a change. \\u201cSusan Rice operationalized the NSC during the last administration so I was put on NSC to ensure it was \\u2018de-operationalized.\\u2019 General McMaster has NSC back to its proper function,\\u201d he said. Trump\\u2019s White House team has grappled with infighting and intrigue that has hobbled his young presidency. In recent days, several other senior U.S. foreign policy and national security officials have said the mechanisms for shaping the Trump administration\\u2019s response to pressing challenges such as Syria, North Korea and Iran still were not in place.  Critics of Bannon\\u2019s role on the NSC said it gave too much weight in decision-making to someone who lacked foreign policy expertise. Bannon, who was chief executive of Trump\\u2019s presidential campaign in the months leading to his election in November, in some respects represents Trump\\u2019s \\u201cAmerica First\\u201d nationalistic voice, helping fuel his anti-Washington fervor and pushing for the president to part ways at times with mainstream Republicans. Before joining the Trump administration, Bannon headed Breitbart News, a right-wing website. U.S. Representative Adam Schiff, ranking Democrat on the House of Representatives Intelligence Committee, called the shift in the NSC a positive step that will help McMaster \\u201cgain control over a body that was being politicized by Bannon\\u2019s involvement.\\u201d \\u201cAs the administration\\u2019s policy over North Korea, China, Russia and Syria continues to drift, we can only hope this shake-up brings some level of strategic vision to the body,\\u201d he said. Bannon\\u2019s removal from the NSC was a potential setback for his sphere of influence in the Trump White House, where he has a voice in most major decisions. But a Trump confidant said Bannon remained as influential as ever. \\u201cHe is still involved in everything and still has the full confidence of the president but to be fair he can only do so much stuff,\\u201d the confidant said, speaking on condition of anonymity. The White House official said Bannon was no longer needed on the NSC after the departure of Trump\\u2019s first national security adviser, Michael Flynn. Flynn was forced to resign on Feb. 13 over his contacts with Russia\\u2019s ambassador to the United States, Sergei Kislyak, prior to Trump taking office on Jan. 20. The official said Bannon had been placed on the NSC originally as a check on Flynn and had only attended one of the NSC\\u2019s regular meetings. The official dismissed questions about a power struggle between Bannon and McMaster, saying they shared the same world view. However, two current national security officials rejected the White House explanation, noting that two months have passed since Flynn\\u2019s departure. McMaster, they said, speaking on the condition of anonymity, also has dueled with Bannon and others over direct access to Trump; the future of deputy national security adviser K.T. McFarland, a former Fox News commentator; intelligence director Ezra Cohen-Watnick, a Flynn appointee; and other staffing decisions. Trump is preparing for his first face-to-face meeting on Thursday and Friday with Chinese President Xi Jinping with the threat of North Korea\\u2019s nuclear and missile programs a key component of their talks. Bannon\\u2019s seat on the NSC\\u2019s \\u201cprincipals\\u2019 committee,\\u201d a group that includes the secretaries of state, defense and other ranking aides, was taken by Rick Perry, who as energy secretary is charged with overseeing the U.S. nuclear weapons arsenal. \",\n          \"Puerto Rico expects U.S. to lift Jones Act shipping restrictions (Reuters) - Puerto Rico Governor Ricardo Rossello said on Wednesday he expected the federal government to waive the Jones Act, which would lift restrictions on ships that can provide aid to the island devastated by Hurricane Maria. He said he has been speaking with members of Congress from both parties who have supported an emergency waiver.  \\u00a0\\u00a0\\u00a0\\u00a0\\u201cWe expect them to waive it,\\u201d Rossello said in an interview with CNN. He noted there was a seven-day waiver after Hurricane Irma, which was much less devastating to the island. \\u00a0\\u00a0\\u00a0 On Tuesday, the Trump administration said there was no need to waive shipping restrictions to help get fuel and supplies to storm-ravaged Puerto Rico, saying it would do nothing to address the island\\u2019s damaged ports, the main impediment to shipping. A waiver would allow Puerto Rico to get help not only from U.S. ships but from any ships that can bring aid. \\u00a0\\u00a0\\u00a0 \\u201cThat is critical, particularly for fuel,\\u201d he said. \\u201cOne of the considerations right now is the priority of getting fuel, diesel, gasoline, all across the island. Right now we have enough fuel. We\\u2019re limited by the transportation logistics, but at some point of course, getting fuel into the island is going to be critical so that we can have the major functions of telecoms, hospitals, water, to be running appropriately.\\u201d \\u00a0\\u00a0\\u00a0 The Jones Act requires that all goods shipped between U.S. ports be carried by American owned-and-operated ships. U.S. Senator John McCain asked acting Department of Homeland Security Secretary Elaine Duke on Tuesday to grant an emergency waiver of the law. He said that Puerto Rican residents would have to pay at least twice as much for food, drinking water and other supplies without the waiver. (This corrected version of the story fixes paragraph four to show the administration has not formally denied a waiver request). \"\n        ],\n        \"semantic_type\": \"\",\n        \"description\": \"\"\n      }\n    },\n    {\n      \"column\": \"clean_text\",\n      \"properties\": {\n        \"dtype\": \"string\",\n        \"num_unique_values\": 3,\n        \"samples\": [\n          \"ben stein call 9th circuit court commit coup tat constitut 21st centuri wire say ben stein reput professor pepperdin univers also hollywood fame appear tv show film ferri bueller day made provoc statement judg jeanin pirro show recent discuss halt impos presid trump execut order travel stein refer judgement 9th circuit court washington state coup tat execut branch constitut stein went call judg seattl polit puppet judiciari polit pawn watch interview complet statement note stark contrast rhetor leftist media pundit neglect note court ever block presidenti order immigr past discuss legal efficaci halt actual text execut order read trump news 21st centuri wire trump filessupport work subscrib becom member 21wire tv\",\n          \"trump drop steve bannon nation secur council washington reuter u presid donald trump remov chief strategist steve bannon nation secur council wednesday revers controversi decis earli year give polit advis unpreced role secur discuss trump overhaul nsc confirm white hous offici also elev general joseph dunford chairman joint chief staff dan coat director nation intellig head 17 u intellig agenc offici said chang move nsc back core function suppos also appear mark victori nation secur advis h r mcmaster told nation secur expert felt battl death bannon other white hous staff vice presid mike penc said bannon would continu play import role polici play shake routin natur evolut ensur nation secur council organ way best serv presid resolv make difficult decis penc said fox news bannon said statement succeed return nsc back tradit role coordin foreign polici rather run cite presid barack obama nation secur advis susan rice advoc chang susan rice operation nsc last administr put nsc ensur de operation general mcmaster nsc back proper function said trump white hous team grappl infight intrigu hobbl young presid recent day sever senior u foreign polici nation secur offici said mechan shape trump administr respons press challeng syria north korea iran still place critic bannon role nsc said gave much weight decis make someon lack foreign polici expertis bannon chief execut trump presidenti campaign month lead elect novemb respect repres trump america first nationalist voic help fuel anti washington fervor push presid part way time mainstream republican join trump administr bannon head breitbart news right wing websit u repres adam schiff rank democrat hous repres intellig committe call shift nsc posit step help mcmaster gain control bodi politic bannon involv administr polici north korea china russia syria continu drift hope shake bring level strateg vision bodi said bannon remov nsc potenti setback sphere influenc trump white hous voic major decis trump confid said bannon remain influenti ever still involv everyth still full confid presid fair much stuff confid said speak condit anonym white hous offici said bannon longer need nsc departur trump first nation secur advis michael flynn flynn forc resign feb 13 contact russia ambassador unit state sergei kislyak prior trump take offic jan 20 offici said bannon place nsc origin check flynn attend one nsc regular meet offici dismiss question power struggl bannon mcmaster say share world view howev two current nation secur offici reject white hous explan note two month pass sinc flynn departur mcmaster said speak condit anonym also duel bannon other direct access trump futur deputi nation secur advis k mcfarland former fox news comment intellig director ezra cohen watnick flynn appointe staf decis trump prepar first face face meet thursday friday chines presid xi jinp threat north korea nuclear missil program key compon talk bannon seat nsc princip committe group includ secretari state defens rank aid taken rick perri energi secretari charg overse u nuclear weapon arsenal\",\n          \"puerto rico expect u lift jone act ship restrict reuter puerto rico governor ricardo rossello said wednesday expect feder govern waiv jone act would lift restrict ship provid aid island devast hurrican maria said speak member congress parti support emerg waiver expect waiv rossello said interview cnn note seven day waiver hurrican irma much less devast island tuesday trump administr said need waiv ship restrict help get fuel suppli storm ravag puerto rico say would noth address island damag port main impedi ship waiver would allow puerto rico get help u ship ship bring aid critic particular fuel said one consider right prioriti get fuel diesel gasolin across island right enough fuel limit transport logist point cours get fuel island go critic major function telecom hospit water run appropri jone act requir good ship u port carri american own oper ship u senat john mccain ask act depart homeland secur secretari elain duke tuesday grant emerg waiver law said puerto rican resid would pay least twice much food drink water suppli without waiver correct version stori fix paragraph four show administr formal deni waiver request\"\n        ],\n        \"semantic_type\": \"\",\n        \"description\": \"\"\n      }\n    }\n  ]\n}"
            }
          },
          "metadata": {}
        }
      ],
      "source": [
        "\n",
        "import re\n",
        "import numpy as np\n",
        "import matplotlib.pyplot as plt\n",
        "import seaborn as sns\n",
        "from sklearn.model_selection import train_test_split\n",
        "from sklearn.feature_extraction.text import TfidfVectorizer\n",
        "from sklearn.linear_model import LogisticRegression\n",
        "from sklearn.metrics import classification_report, confusion_matrix, accuracy_score\n",
        "import joblib\n",
        "import nltk\n",
        "nltk.download('stopwords')\n",
        "from nltk.corpus import stopwords\n",
        "from nltk.stem import SnowballStemmer\n",
        "\n",
        "stop_words = set(stopwords.words('english'))\n",
        "stemmer = SnowballStemmer('english')\n",
        "\n",
        "def clean_text(text):\n",
        "    if not isinstance(text, str):\n",
        "        return ''\n",
        "    text = text.lower()\n",
        "    text = re.sub(r'http\\S+|www\\S+|https\\S+', '', text)\n",
        "    text = re.sub(r'[^a-z0-9\\s]', ' ', text)\n",
        "    text = re.sub(r'\\s+', ' ', text).strip()\n",
        "    tokens = [stemmer.stem(tok) for tok in text.split() if tok not in stop_words]\n",
        "    return ' '.join(tokens)\n",
        "\n",
        "# Combine title + text if available\n",
        "if 'title' in df.columns:\n",
        "    df['content'] = (df['title'].fillna('') + ' ' + df['text'].fillna('')).astype(str)\n",
        "else:\n",
        "    df['content'] = df['text'].astype(str)\n",
        "\n",
        "# Create a cleaned_text column (this may take a few minutes on the full dataset)\n",
        "print(\"Starting text cleaning (this may take a while for full dataset)...\")\n",
        "df['clean_text'] = df['content'].apply(clean_text)\n",
        "print(\"✅ Preprocessing complete. Sample:\")\n",
        "display(df[['content','clean_text']].head(3))\n"
      ]
    },
    {
      "cell_type": "markdown",
      "id": "5770fb7d",
      "metadata": {
        "id": "5770fb7d"
      },
      "source": [
        "## 4) TF‑IDF + Logistic Regression (baseline)"
      ]
    },
    {
      "cell_type": "code",
      "execution_count": 6,
      "id": "a04060aa",
      "metadata": {
        "colab": {
          "base_uri": "https://localhost:8080/",
          "height": 711
        },
        "id": "a04060aa",
        "outputId": "a6c67d7d-58c1-4dbd-8a50-87c5dc98d389"
      },
      "outputs": [
        {
          "output_type": "stream",
          "name": "stdout",
          "text": [
            "TF-IDF done. Shapes: (35918, 20000) (8980, 20000)\n",
            "✅ Logistic Regression trained.\n",
            "Logistic Regression Accuracy: 0.9894\n",
            "\n",
            "              precision    recall  f1-score   support\n",
            "\n",
            "           0     0.9865    0.9914    0.9889      4284\n",
            "           1     0.9921    0.9876    0.9899      4696\n",
            "\n",
            "    accuracy                         0.9894      8980\n",
            "   macro avg     0.9893    0.9895    0.9894      8980\n",
            "weighted avg     0.9894    0.9894    0.9894      8980\n",
            "\n"
          ]
        },
        {
          "output_type": "display_data",
          "data": {
            "text/plain": [
              "<Figure size 600x500 with 2 Axes>"
            ],
            "image/png": "[encoded data removed]"
          },
          "metadata": {}
        },
        {
          "output_type": "stream",
          "name": "stdout",
          "text": [
            "Saved Logistic model and TF-IDF vectorizer.\n"
          ]
        }
      ],
      "source": [
        "\n",
        "# TF-IDF + Logistic Regression pipeline\n",
        "X = df['clean_text']\n",
        "y = df['label'].astype(int)\n",
        "\n",
        "X_train, X_test, y_train, y_test = train_test_split(X, y, test_size=0.20, stratify=y, random_state=42)\n",
        "\n",
        "tfidf = TfidfVectorizer(max_features=20000, ngram_range=(1,2))\n",
        "X_train_tfidf = tfidf.fit_transform(X_train)\n",
        "X_test_tfidf = tfidf.transform(X_test)\n",
        "\n",
        "print('TF-IDF done. Shapes:', X_train_tfidf.shape, X_test_tfidf.shape)\n",
        "\n",
        "model = LogisticRegression(max_iter=1000, solver='saga')\n",
        "model.fit(X_train_tfidf, y_train)\n",
        "print('✅ Logistic Regression trained.')\n",
        "\n",
        "# Evaluate baseline\n",
        "preds = model.predict(X_test_tfidf)\n",
        "acc = accuracy_score(y_test, preds)\n",
        "print(f'Logistic Regression Accuracy: {acc:.4f}\\n')\n",
        "print(classification_report(y_test, preds, digits=4))\n",
        "cm = confusion_matrix(y_test, preds)\n",
        "plt.figure(figsize=(6,5))\n",
        "sns.heatmap(cm, annot=True, fmt='d', cmap='Blues', xticklabels=['Real','Fake'], yticklabels=['Real','Fake'])\n",
        "plt.title('Confusion Matrix — Logistic Regression')\n",
        "plt.show()\n",
        "\n",
        "# Save baseline model & tfidf\n",
        "joblib.dump(model, '/content/fake_news_logreg.joblib')\n",
        "joblib.dump(tfidf, '/content/tfidf_vectorizer.joblib')\n",
        "print('Saved Logistic model and TF-IDF vectorizer.')\n"
      ]
    },
    {
      "cell_type": "markdown",
      "id": "b6af9021",
      "metadata": {
        "id": "b6af9021"
      },
      "source": [
        "## 5) TensorFlow LSTM (train on FULL dataset) — WARNING: Enable GPU runtime for faster training"
      ]
    },
    {
      "cell_type": "code",
      "execution_count": 7,
      "id": "f118b040",
      "metadata": {
        "colab": {
          "base_uri": "https://localhost:8080/",
          "height": 1000
        },
        "id": "f118b040",
        "outputId": "f557a07c-06b1-4abf-f86f-efd2ae00afe9"
      },
      "outputs": [
        {
          "metadata": {
            "tags": null
          },
          "name": "stdout",
          "output_type": "stream",
          "text": [
            "TensorFlow version: 2.19.0\n",
            "Sequences prepared. Train shape: (35918, 256) Test shape: (8980, 256)\n"
          ]
        },
        {
          "metadata": {
            "tags": null
          },
          "name": "stderr",
          "output_type": "stream",
          "text": [
            "/usr/local/lib/python3.12/dist-packages/keras/src/layers/core/embedding.py:97: UserWarning: Argument `input_length` is deprecated. Just remove it.\n",
            "  warnings.warn(\n"
          ]
        },
        {
          "data": {
            "text/html": [
              "<pre style=\"white-space:pre;overflow-x:auto;line-height:normal;font-family:Menlo,'DejaVu Sans Mono',consolas,'Courier New',monospace\"><span style=\"font-weight: bold\">Model: \"sequential\"</span>\n",
              "</pre>\n"
            ],
            "text/plain": [
              "\u001b[1mModel: \"sequential\"\u001b[0m\n"
            ]
          },
          "metadata": {},
          "output_type": "display_data"
        },
        {
          "data": {
            "text/html": [
              "<pre style=\"white-space:pre;overflow-x:auto;line-height:normal;font-family:Menlo,'DejaVu Sans Mono',consolas,'Courier New',monospace\">┏━━━━━━━━━━━━━━━━━━━━━━━━━━━━━━━━━┳━━━━━━━━━━━━━━━━━━━━━━━━┳━━━━━━━━━━━━━━━┓\n",
              "┃<span style=\"font-weight: bold\"> Layer (type)                    </span>┃<span style=\"font-weight: bold\"> Output Shape           </span>┃<span style=\"font-weight: bold\">       Param # </span>┃\n",
              "┡━━━━━━━━━━━━━━━━━━━━━━━━━━━━━━━━━╇━━━━━━━━━━━━━━━━━━━━━━━━╇━━━━━━━━━━━━━━━┩\n",
              "│ embedding (<span style=\"color: #0087ff; text-decoration-color: #0087ff\">Embedding</span>)           │ ?                      │   <span style=\"color: #00af00; text-decoration-color: #00af00\">0</span> (unbuilt) │\n",
              "├─────────────────────────────────┼────────────────────────┼───────────────┤\n",
              "│ bidirectional (<span style=\"color: #0087ff; text-decoration-color: #0087ff\">Bidirectional</span>)   │ ?                      │   <span style=\"color: #00af00; text-decoration-color: #00af00\">0</span> (unbuilt) │\n",
              "├─────────────────────────────────┼────────────────────────┼───────────────┤\n",
              "│ dropout (<span style=\"color: #0087ff; text-decoration-color: #0087ff\">Dropout</span>)               │ ?                      │             <span style=\"color: #00af00; text-decoration-color: #00af00\">0</span> │\n",
              "├─────────────────────────────────┼────────────────────────┼───────────────┤\n",
              "│ dense (<span style=\"color: #0087ff; text-decoration-color: #0087ff\">Dense</span>)                   │ ?                      │   <span style=\"color: #00af00; text-decoration-color: #00af00\">0</span> (unbuilt) │\n",
              "├─────────────────────────────────┼────────────────────────┼───────────────┤\n",
              "│ dropout_1 (<span style=\"color: #0087ff; text-decoration-color: #0087ff\">Dropout</span>)             │ ?                      │             <span style=\"color: #00af00; text-decoration-color: #00af00\">0</span> │\n",
              "├─────────────────────────────────┼────────────────────────┼───────────────┤\n",
              "│ dense_1 (<span style=\"color: #0087ff; text-decoration-color: #0087ff\">Dense</span>)                 │ ?                      │   <span style=\"color: #00af00; text-decoration-color: #00af00\">0</span> (unbuilt) │\n",
              "└─────────────────────────────────┴────────────────────────┴───────────────┘\n",
              "</pre>\n"
            ],
            "text/plain": [
              "┏━━━━━━━━━━━━━━━━━━━━━━━━━━━━━━━━━┳━━━━━━━━━━━━━━━━━━━━━━━━┳━━━━━━━━━━━━━━━┓\n",
              "┃\u001b[1m \u001b[0m\u001b[1mLayer (type)                   \u001b[0m\u001b[1m \u001b[0m┃\u001b[1m \u001b[0m\u001b[1mOutput Shape          \u001b[0m\u001b[1m \u001b[0m┃\u001b[1m \u001b[0m\u001b[1m      Param #\u001b[0m\u001b[1m \u001b[0m┃\n",
              "┡━━━━━━━━━━━━━━━━━━━━━━━━━━━━━━━━━╇━━━━━━━━━━━━━━━━━━━━━━━━╇━━━━━━━━━━━━━━━┩\n",
              "│ embedding (\u001b[38;5;33mEmbedding\u001b[0m)           │ ?                      │   \u001b[38;5;34m0\u001b[0m (unbuilt) │\n",
              "├─────────────────────────────────┼────────────────────────┼───────────────┤\n",
              "│ bidirectional (\u001b[38;5;33mBidirectional\u001b[0m)   │ ?                      │   \u001b[38;5;34m0\u001b[0m (unbuilt) │\n",
              "├─────────────────────────────────┼────────────────────────┼───────────────┤\n",
              "│ dropout (\u001b[38;5;33mDropout\u001b[0m)               │ ?                      │             \u001b[38;5;34m0\u001b[0m │\n",
              "├─────────────────────────────────┼────────────────────────┼───────────────┤\n",
              "│ dense (\u001b[38;5;33mDense\u001b[0m)                   │ ?                      │   \u001b[38;5;34m0\u001b[0m (unbuilt) │\n",
              "├─────────────────────────────────┼────────────────────────┼───────────────┤\n",
              "│ dropout_1 (\u001b[38;5;33mDropout\u001b[0m)             │ ?                      │             \u001b[38;5;34m0\u001b[0m │\n",
              "├─────────────────────────────────┼────────────────────────┼───────────────┤\n",
              "│ dense_1 (\u001b[38;5;33mDense\u001b[0m)                 │ ?                      │   \u001b[38;5;34m0\u001b[0m (unbuilt) │\n",
              "└─────────────────────────────────┴────────────────────────┴───────────────┘\n"
            ]
          },
          "metadata": {},
          "output_type": "display_data"
        },
        {
          "data": {
            "text/html": [
              "<pre style=\"white-space:pre;overflow-x:auto;line-height:normal;font-family:Menlo,'DejaVu Sans Mono',consolas,'Courier New',monospace\"><span style=\"font-weight: bold\"> Total params: </span><span style=\"color: #00af00; text-decoration-color: #00af00\">0</span> (0.00 B)\n",
              "</pre>\n"
            ],
            "text/plain": [
              "\u001b[1m Total params: \u001b[0m\u001b[38;5;34m0\u001b[0m (0.00 B)\n"
            ]
          },
          "metadata": {},
          "output_type": "display_data"
        },
        {
          "data": {
            "text/html": [
              "<pre style=\"white-space:pre;overflow-x:auto;line-height:normal;font-family:Menlo,'DejaVu Sans Mono',consolas,'Courier New',monospace\"><span style=\"font-weight: bold\"> Trainable params: </span><span style=\"color: #00af00; text-decoration-color: #00af00\">0</span> (0.00 B)\n",
              "</pre>\n"
            ],
            "text/plain": [
              "\u001b[1m Trainable params: \u001b[0m\u001b[38;5;34m0\u001b[0m (0.00 B)\n"
            ]
          },
          "metadata": {},
          "output_type": "display_data"
        },
        {
          "data": {
            "text/html": [
              "<pre style=\"white-space:pre;overflow-x:auto;line-height:normal;font-family:Menlo,'DejaVu Sans Mono',consolas,'Courier New',monospace\"><span style=\"font-weight: bold\"> Non-trainable params: </span><span style=\"color: #00af00; text-decoration-color: #00af00\">0</span> (0.00 B)\n",
              "</pre>\n"
            ],
            "text/plain": [
              "\u001b[1m Non-trainable params: \u001b[0m\u001b[38;5;34m0\u001b[0m (0.00 B)\n"
            ]
          },
          "metadata": {},
          "output_type": "display_data"
        },
        {
          "metadata": {
            "tags": null
          },
          "name": "stdout",
          "output_type": "stream",
          "text": [
            "Epoch 1/4\n",
            "\u001b[1m506/506\u001b[0m \u001b[32m━━━━━━━━━━━━━━━━━━━━\u001b[0m\u001b[37m\u001b[0m \u001b[1m0s\u001b[0m 1s/step - accuracy: 0.9379 - loss: 0.1328\n",
            "Epoch 1: val_accuracy improved from -inf to 0.99916, saving model to /content/lstm_best.h5\n"
          ]
        },
        {
          "metadata": {
            "tags": null
          },
          "name": "stderr",
          "output_type": "stream",
          "text": [
            "WARNING:absl:You are saving your model as an HDF5 file via `model.save()` or `keras.saving.save_model(model)`. This file format is considered legacy. We recommend using instead the native Keras format, e.g. `model.save('my_model.keras')` or `keras.saving.save_model(model, 'my_model.keras')`. \n"
          ]
        },
        {
          "metadata": {
            "tags": null
          },
          "name": "stdout",
          "output_type": "stream",
          "text": [
            "\u001b[1m506/506\u001b[0m \u001b[32m━━━━━━━━━━━━━━━━━━━━\u001b[0m\u001b[37m\u001b[0m \u001b[1m529s\u001b[0m 1s/step - accuracy: 0.9380 - loss: 0.1326 - val_accuracy: 0.9992 - val_loss: 0.0023\n",
            "Epoch 2/4\n",
            "\u001b[1m506/506\u001b[0m \u001b[32m━━━━━━━━━━━━━━━━━━━━\u001b[0m\u001b[37m\u001b[0m \u001b[1m0s\u001b[0m 1s/step - accuracy: 0.9995 - loss: 0.0023\n",
            "Epoch 2: val_accuracy did not improve from 0.99916\n",
            "\u001b[1m506/506\u001b[0m \u001b[32m━━━━━━━━━━━━━━━━━━━━\u001b[0m\u001b[37m\u001b[0m \u001b[1m561s\u001b[0m 1s/step - accuracy: 0.9995 - loss: 0.0023 - val_accuracy: 0.9992 - val_loss: 0.0029\n",
            "Epoch 3/4\n",
            "\u001b[1m506/506\u001b[0m \u001b[32m━━━━━━━━━━━━━━━━━━━━\u001b[0m\u001b[37m\u001b[0m \u001b[1m0s\u001b[0m 1s/step - accuracy: 0.9999 - loss: 4.3995e-04\n",
            "Epoch 3: val_accuracy did not improve from 0.99916\n",
            "\u001b[1m506/506\u001b[0m \u001b[32m━━━━━━━━━━━━━━━━━━━━\u001b[0m\u001b[37m\u001b[0m \u001b[1m523s\u001b[0m 1s/step - accuracy: 0.9999 - loss: 4.4131e-04 - val_accuracy: 0.9981 - val_loss: 0.0062\n",
            "Epoch 3: early stopping\n",
            "Restoring model weights from the end of the best epoch: 1.\n"
          ]
        },
        {
          "metadata": {
            "tags": null
          },
          "name": "stderr",
          "output_type": "stream",
          "text": [
            "WARNING:absl:You are saving your model as an HDF5 file via `model.save()` or `keras.saving.save_model(model)`. This file format is considered legacy. We recommend using instead the native Keras format, e.g. `model.save('my_model.keras')` or `keras.saving.save_model(model, 'my_model.keras')`. \n"
          ]
        },
        {
          "output_type": "stream",
          "name": "stdout",
          "text": [
            "✅ LSTM model and tokenizer saved: /content/lstm_fake_news_full.h5, /content/tokenizer_full.pkl\n",
            "\u001b[1m281/281\u001b[0m \u001b[32m━━━━━━━━━━━━━━━━━━━━\u001b[0m\u001b[37m\u001b[0m \u001b[1m57s\u001b[0m 202ms/step - accuracy: 0.9983 - loss: 0.0074\n",
            "LSTM Test Accuracy: 0.9983\n",
            "\u001b[1m281/281\u001b[0m \u001b[32m━━━━━━━━━━━━━━━━━━━━\u001b[0m\u001b[37m\u001b[0m \u001b[1m56s\u001b[0m 199ms/step\n",
            "\n",
            "Classification report for LSTM:\n",
            "              precision    recall  f1-score   support\n",
            "\n",
            "           0     0.9991    0.9974    0.9982      4284\n",
            "           1     0.9977    0.9991    0.9984      4696\n",
            "\n",
            "    accuracy                         0.9983      8980\n",
            "   macro avg     0.9984    0.9983    0.9983      8980\n",
            "weighted avg     0.9983    0.9983    0.9983      8980\n",
            "\n"
          ]
        },
        {
          "output_type": "display_data",
          "data": {
            "text/plain": [
              "<Figure size 600x500 with 2 Axes>"
            ],
            "image/png": "[encoded data removed]"
          },
          "metadata": {}
        }
      ],
      "source": [
        "\n",
        "# TensorFlow / Keras LSTM model for text classification\n",
        "import tensorflow as tf\n",
        "from tensorflow.keras.preprocessing.text import Tokenizer\n",
        "from tensorflow.keras.preprocessing.sequence import pad_sequences\n",
        "from tensorflow.keras.models import Sequential\n",
        "from tensorflow.keras.layers import Embedding, LSTM, Dense, Dropout, Bidirectional\n",
        "from tensorflow.keras.callbacks import ModelCheckpoint, EarlyStopping\n",
        "import pickle\n",
        "\n",
        "print('TensorFlow version:', tf.__version__)\n",
        "\n",
        "# Parameters (tweakable)\n",
        "MAX_NUM_WORDS = 20000   # vocabulary size\n",
        "MAX_SEQUENCE_LENGTH = 256\n",
        "EMBEDDING_DIM = 128\n",
        "BATCH_SIZE = 64\n",
        "EPOCHS = 4  # for full dataset, you can increase if you have time/GPU\n",
        "\n",
        "# Prepare tokenizer on the full cleaned text\n",
        "tokenizer = Tokenizer(num_words=MAX_NUM_WORDS, oov_token='<OOV>')\n",
        "tokenizer.fit_on_texts(df['clean_text'].tolist())\n",
        "\n",
        "# Convert texts to sequences and pad\n",
        "sequences = tokenizer.texts_to_sequences(df['clean_text'].tolist())\n",
        "padded = pad_sequences(sequences, maxlen=MAX_SEQUENCE_LENGTH, padding='post', truncating='post')\n",
        "\n",
        "labels = df['label'].astype(int).values\n",
        "\n",
        "# Train/test split (same ratio, ensure shuffle)\n",
        "from sklearn.model_selection import train_test_split\n",
        "X_train_seq, X_test_seq, y_train_seq, y_test_seq = train_test_split(padded, labels, test_size=0.20, stratify=labels, random_state=42)\n",
        "\n",
        "print('Sequences prepared. Train shape:', X_train_seq.shape, 'Test shape:', X_test_seq.shape)\n",
        "\n",
        "# Build model\n",
        "model_lstm = Sequential([\n",
        "    Embedding(input_dim=MAX_NUM_WORDS, output_dim=EMBEDDING_DIM, input_length=MAX_SEQUENCE_LENGTH),\n",
        "    Bidirectional(LSTM(128, return_sequences=False)),\n",
        "    Dropout(0.5),\n",
        "    Dense(64, activation='relu'),\n",
        "    Dropout(0.3),\n",
        "    Dense(1, activation='sigmoid')\n",
        "])\n",
        "\n",
        "model_lstm.compile(optimizer='adam', loss='binary_crossentropy', metrics=['accuracy'])\n",
        "model_lstm.summary()\n",
        "\n",
        "# Callbacks\n",
        "checkpoint_path = '/content/lstm_best.h5'\n",
        "checkpoint = ModelCheckpoint(checkpoint_path, monitor='val_accuracy', save_best_only=True, verbose=1)\n",
        "early = EarlyStopping(monitor='val_accuracy', patience=2, restore_best_weights=True, verbose=1)\n",
        "\n",
        "# Train (this may take time — GPU recommended)\n",
        "history = model_lstm.fit(\n",
        "    X_train_seq, y_train_seq,\n",
        "    validation_split=0.1,\n",
        "    epochs=EPOCHS,\n",
        "    batch_size=BATCH_SIZE,\n",
        "    callbacks=[checkpoint, early]\n",
        ")\n",
        "\n",
        "# Save tokenizer and model\n",
        "model_lstm.save('/content/lstm_fake_news_full.h5')\n",
        "with open('/content/tokenizer_full.pkl', 'wb') as f:\n",
        "    pickle.dump(tokenizer, f)\n",
        "\n",
        "print('✅ LSTM model and tokenizer saved: /content/lstm_fake_news_full.h5, /content/tokenizer_full.pkl')\n",
        "\n",
        "# Evaluate on test set\n",
        "loss, acc = model_lstm.evaluate(X_test_seq, y_test_seq, verbose=1)\n",
        "print(f'LSTM Test Accuracy: {acc:.4f}')\n",
        "preds_prob = model_lstm.predict(X_test_seq)\n",
        "preds_lbl = (preds_prob.flatten() >= 0.5).astype(int)\n",
        "\n",
        "print('\\nClassification report for LSTM:')\n",
        "from sklearn.metrics import classification_report, confusion_matrix, accuracy_score\n",
        "print(classification_report(y_test_seq, preds_lbl, digits=4))\n",
        "\n",
        "cm = confusion_matrix(y_test_seq, preds_lbl)\n",
        "plt.figure(figsize=(6,5))\n",
        "sns.heatmap(cm, annot=True, fmt='d', cmap='Reds', xticklabels=['Real','Fake'], yticklabels=['Real','Fake'])\n",
        "plt.title('Confusion Matrix — LSTM')\n",
        "plt.show()\n"
      ]
    },
    {
      "cell_type": "markdown",
      "id": "4e8b913d",
      "metadata": {
        "id": "4e8b913d"
      },
      "source": [
        "## 6) Model Comparison & Save artifacts\n",
        "This section compares Logistic Regression and LSTM results and ensures artifacts are saved for submission."
      ]
    },
    {
      "cell_type": "code",
      "execution_count": 8,
      "id": "572dc657",
      "metadata": {
        "colab": {
          "base_uri": "https://localhost:8080/"
        },
        "id": "572dc657",
        "outputId": "88c2015b-e703-40ea-e444-995cab4c639e"
      },
      "outputs": [
        {
          "output_type": "stream",
          "name": "stdout",
          "text": [
            "logreg_model: /content/fake_news_logreg.joblib ✔️\n",
            "tfidf_vectorizer: /content/tfidf_vectorizer.joblib ✔️\n",
            "lstm_model: /content/lstm_fake_news_full.h5 ✔️\n",
            "tokenizer: /content/tokenizer_full.pkl ✔️\n"
          ]
        }
      ],
      "source": [
        "\n",
        "# Save final artifacts (already saved earlier during steps; show paths)\n",
        "artifacts = {\n",
        "    'logreg_model': '/content/fake_news_logreg.joblib',\n",
        "    'tfidf_vectorizer': '/content/tfidf_vectorizer.joblib',\n",
        "    'lstm_model': '/content/lstm_fake_news_full.h5',\n",
        "    'tokenizer': '/content/tokenizer_full.pkl'\n",
        "}\n",
        "for k,v in artifacts.items():\n",
        "    exists = '✔️' if os.path.exists(v) else '❌'\n",
        "    print(f'{k}: {v} {exists}')\n"
      ]
    },
    {
      "cell_type": "markdown",
      "id": "0018c29d",
      "metadata": {
        "id": "0018c29d"
      },
      "source": [
        "## 7) Inference examples — both models"
      ]
    },
    {
      "cell_type": "code",
      "execution_count": 9,
      "id": "09df2367",
      "metadata": {
        "colab": {
          "base_uri": "https://localhost:8080/"
        },
        "id": "09df2367",
        "outputId": "357b3043-21a5-4c42-951b-18309e7cbbbd"
      },
      "outputs": [
        {
          "output_type": "stream",
          "name": "stderr",
          "text": [
            "WARNING:absl:Compiled the loaded model, but the compiled metrics have yet to be built. `model.compile_metrics` will be empty until you train or evaluate the model.\n"
          ]
        },
        {
          "output_type": "stream",
          "name": "stdout",
          "text": [
            "\n",
            "Input: Breaking: New study shows coffee cures all diseases, scientists amazed\n",
            "LogReg: {'model': 'logreg', 'label': 'FAKE', 'confidence': 0.8608905453892972}\n",
            "\u001b[1m1/1\u001b[0m \u001b[32m━━━━━━━━━━━━━━━━━━━━\u001b[0m\u001b[37m\u001b[0m \u001b[1m0s\u001b[0m 361ms/step\n",
            "LSTM: {'model': 'lstm', 'label': 'FAKE', 'confidence': 0.9999905228614807}\n",
            "\n",
            "Input: Government announces new education policy to improve literacy rates\n",
            "LogReg: {'model': 'logreg', 'label': 'FAKE', 'confidence': 0.536052455175239}\n",
            "\u001b[1m1/1\u001b[0m \u001b[32m━━━━━━━━━━━━━━━━━━━━\u001b[0m\u001b[37m\u001b[0m \u001b[1m0s\u001b[0m 80ms/step\n",
            "LSTM: {'model': 'lstm', 'label': 'FAKE', 'confidence': 0.999971866607666}\n"
          ]
        }
      ],
      "source": [
        "\n",
        "# Load models (if not in memory) and run example predictions\n",
        "\n",
        "# Logistic model & TF-IDF already loaded earlier; reload if needed\n",
        "import joblib\n",
        "if not 'model' in globals():\n",
        "    model = joblib.load('/content/fake_news_logreg.joblib')\n",
        "if not 'tfidf' in globals():\n",
        "    tfidf = joblib.load('/content/tfidf_vectorizer.joblib')\n",
        "\n",
        "# Load tokenizer & LSTM\n",
        "import pickle\n",
        "from tensorflow.keras.models import load_model\n",
        "if not os.path.exists('/content/lstm_fake_news_full.h5'):\n",
        "    print('LSTM model not found, ensure you ran training.')\n",
        "else:\n",
        "    lstm_model = load_model('/content/lstm_fake_news_full.h5')\n",
        "    with open('/content/tokenizer_full.pkl','rb') as f:\n",
        "        tokenizer = pickle.load(f)\n",
        "\n",
        "def predict_logreg(text):\n",
        "    c = clean_text(text)\n",
        "    v = tfidf.transform([c])\n",
        "    p = model.predict(v)[0]\n",
        "    prob = None\n",
        "    try:\n",
        "        prob = model.predict_proba(v)[0][p]\n",
        "    except:\n",
        "        prob = None\n",
        "    return {'model':'logreg', 'label': 'FAKE' if p==1 else 'REAL', 'confidence': float(prob) if prob is not None else None}\n",
        "\n",
        "def predict_lstm(text):\n",
        "    c = clean_text(text)\n",
        "    seq = tokenizer.texts_to_sequences([c])\n",
        "    pad = pad_sequences(seq, maxlen=256, padding='post', truncating='post')\n",
        "    prob = float(lstm_model.predict(pad)[0][0])\n",
        "    label = 'FAKE' if prob>=0.5 else 'REAL'\n",
        "    return {'model':'lstm', 'label': label, 'confidence': prob}\n",
        "\n",
        "examples = [\n",
        "    \"Breaking: New study shows coffee cures all diseases, scientists amazed\",\n",
        "    \"Government announces new education policy to improve literacy rates\"\n",
        "]\n",
        "\n",
        "for ex in examples:\n",
        "    print('\\nInput:', ex)\n",
        "    print('LogReg:', predict_logreg(ex))\n",
        "    print('LSTM:', predict_lstm(ex))\n"
      ]
    },
    {
      "cell_type": "markdown",
      "id": "be13cd76",
      "metadata": {
        "id": "be13cd76"
      },
      "source": [
        "## 8) Optional: BERT (commented)"
      ]
    },
    {
      "cell_type": "code",
      "execution_count": null,
      "id": "e6631e6d",
      "metadata": {
        "id": "e6631e6d"
      },
      "outputs": [],
      "source": [
        "\n",
        "# Optional BERT section is available in the notebook but commented out to keep runtime light.\n",
        "# Enable GPU runtime and uncomment to use.\n"
      ]
    },
    {
      "cell_type": "markdown",
      "id": "d397f930",
      "metadata": {
        "id": "d397f930"
      },
      "source": [
        "## 9) Summary & Next Steps\n",
        "- This notebook trains Logistic Regression (TF-IDF) and a TensorFlow LSTM on the FULL dataset.\n",
        "- GPU runtime recommended for LSTM training. Monitor runtime and adjust EPOCHS/BATCH_SIZE if needed.\n",
        "\n",
        "**Next steps:** hyperparameter tuning, class-weight handling, model ensembling, deployment with FastAPI/Streamlit.\n",
        "\n",
        "---\n",
        "Thank you!"
      ]
    }
  ],
  "metadata": {
    "colab": {
      "provenance": []
    },
    "language_info": {
      "name": "python"
    },
    "kernelspec": {
      "name": "python3",
      "display_name": "Python 3"
    }
  },
  "nbformat": 4,
  "nbformat_minor": 5
}